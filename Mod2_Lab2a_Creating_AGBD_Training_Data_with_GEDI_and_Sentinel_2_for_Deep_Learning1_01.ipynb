{
  "cells": [
    {
      "cell_type": "markdown",
      "metadata": {
        "id": "view-in-github",
        "colab_type": "text"
      },
      "source": [
        "<a href=\"https://colab.research.google.com/github/iqbalhabibie1206/IndonesianAtmosphere/blob/master/Mod2_Lab2a_Creating_AGBD_Training_Data_with_GEDI_and_Sentinel_2_for_Deep_Learning1_01.ipynb\" target=\"_parent\"><img src=\"https://colab.research.google.com/assets/colab-badge.svg\" alt=\"Open In Colab\"/></a>"
      ]
    },
    {
      "cell_type": "markdown",
      "metadata": {
        "id": "SncSpvGm2VUS"
      },
      "source": [
        "# **Lab 2a. Creating AGBD Training Data with GEDI and Sentinel-2 for Deep Learning**\n",
        "\n",
        "## Introduction\n",
        "In this tutorial, we prepare training data for modeling aboveground biomass density (AGBD). We use Google Earth Engine (API) for taining data prepation.\n",
        "To run this script, the user must have an Earth Engine account and authenticate the Earth Engine Python API."
      ]
    },
    {
      "cell_type": "markdown",
      "metadata": {
        "id": "DoerQ1ama7Fh"
      },
      "source": [
        "## Initialize and Authenticate Earth Engine\n",
        "To get started with Google Earth Engine (GEE), you need to initialize and authenticate the Earth Engine API. Follow these steps.\n",
        "\n",
        "\n",
        "First, import the Earth Engine API by importing the ee module into your Python environment. This module allows you to interact with the Earth Engine platform.\n"
      ]
    },
    {
      "cell_type": "code",
      "execution_count": null,
      "metadata": {
        "id": "7a6_vlZcOZPU"
      },
      "outputs": [],
      "source": [
        "# Import the API\n",
        "import ee"
      ]
    },
    {
      "cell_type": "markdown",
      "metadata": {
        "id": "8V9idAmhc8X7"
      },
      "source": [
        "Next, initialize the Earth Engine API."
      ]
    },
    {
      "cell_type": "code",
      "execution_count": null,
      "metadata": {
        "id": "0hGRqMB4PN7N"
      },
      "outputs": [],
      "source": [
        "# Trigger the authentication flow.\n",
        "ee.Authenticate()\n",
        "\n",
        "# Initialize the library.\n",
        "ee.Initialize(project='ee-xxx-test') ## Change to your EE project"
      ]
    },
    {
      "cell_type": "markdown",
      "source": [
        "## Install and import libraries\n",
        "Next, import the essential libraries needed to process and analyze the datasets."
      ],
      "metadata": {
        "id": "GDGlZyCNk2QJ"
      }
    },
    {
      "cell_type": "code",
      "source": [
        "# Import the necessary libraries\n",
        "import geemap\n",
        "import matplotlib.pyplot as plt\n",
        "import numpy as np\n",
        "import pandas as pd\n",
        "import seaborn as sns"
      ],
      "metadata": {
        "id": "sUbLkdkyODxK"
      },
      "execution_count": null,
      "outputs": []
    },
    {
      "cell_type": "markdown",
      "metadata": {
        "id": "aGvWL3O0eSnC"
      },
      "source": [
        "## Prepare predictor variables\n",
        "This tutorial will use predictor variables such as Sentinel-2, the normalized difference vegetation index (NDVI), the soil-adjusted vegetation index (SAVI), the red edge spectral index (RESI), elevation, and slope."
      ]
    },
    {
      "cell_type": "code",
      "execution_count": null,
      "metadata": {
        "id": "PMbEKyQB7SSo",
        "colab": {
          "base_uri": "https://localhost:8080/",
          "height": 17
        },
        "outputId": "2a048b39-6083-4143-92cf-a2dc8d189811"
      },
      "outputs": [
        {
          "output_type": "display_data",
          "data": {
            "text/plain": [
              "<IPython.core.display.HTML object>"
            ],
            "text/html": [
              "\n",
              "            <style>\n",
              "                .geemap-dark {\n",
              "                    --jp-widgets-color: white;\n",
              "                    --jp-widgets-label-color: white;\n",
              "                    --jp-ui-font-color1: white;\n",
              "                    --jp-layout-color2: #454545;\n",
              "                    background-color: #383838;\n",
              "                }\n",
              "\n",
              "                .geemap-dark .jupyter-button {\n",
              "                    --jp-layout-color3: #383838;\n",
              "                }\n",
              "\n",
              "                .geemap-colab {\n",
              "                    background-color: var(--colab-primary-surface-color, white);\n",
              "                }\n",
              "\n",
              "                .geemap-colab .jupyter-button {\n",
              "                    --jp-layout-color3: var(--colab-primary-surface-color, white);\n",
              "                }\n",
              "            </style>\n",
              "            "
            ]
          },
          "metadata": {}
        }
      ],
      "source": [
        "# Load the boundary\n",
        "boundary = ee.FeatureCollection('projects/ee-kamusoko-test/assets/Mafungautsi_Project_Boundary')"
      ]
    },
    {
      "cell_type": "markdown",
      "metadata": {
        "id": "xg16ETZke8oU"
      },
      "source": [
        "### Create Sentinel-2 composite\n",
        "Next, load Sentinel-2 spectral reflectance data from the COPERNICUS 'S2_SR_HARMONIZED' image collection in Earth Engine. .\n"
      ]
    },
    {
      "cell_type": "code",
      "execution_count": null,
      "metadata": {
        "id": "2JTcL84Xqf5U"
      },
      "outputs": [],
      "source": [
        "# Load Sentinel-2 spectral reflectance data.\n",
        "s2 = ee.ImageCollection('COPERNICUS/S2_SR_HARMONIZED')\n",
        "\n",
        "# Create a function to mask clouds using the Sentinel-2 QA band.\n",
        "def maskS2clouds(image):\n",
        "    qa = image.select('QA60')\n",
        "    # Bits 10 and 11 are clouds and cirrus, respectively.\n",
        "    cloudBitMask = ee.Number(2).pow(10).int()\n",
        "    cirrusBitMask = ee.Number(2).pow(11).int()\n",
        "    # Both flags should be set to zero, indicating clear conditions.\n",
        "    mask = qa.bitwiseAnd(cloudBitMask).eq(0).And(\n",
        "        qa.bitwiseAnd(cirrusBitMask).eq(0))\n",
        "    # Return the masked and scaled data.\n",
        "    return image.updateMask(mask).divide(10000)\n",
        "\n",
        "# Create a single composite image for a given period.\n",
        "start_date = '2022-01-01'\n",
        "end_date = '2022-04-30'\n",
        "\n",
        "# Filter clouds from Sentinel-2 for the given period.\n",
        "composite = s2.filterDate(start_date, end_date) \\\n",
        "    .filter(ee.Filter.lt('CLOUDY_PIXEL_PERCENTAGE', 20)) \\\n",
        "    .map(maskS2clouds) \\\n",
        "    .select(['B2', 'B3', 'B4', 'B5', 'B6', 'B7', 'B8', 'B11', 'B12'])  # Select bands for display\n",
        "\n",
        "# Compute the median composite and clip to the boundary.\n",
        "S2_composite = composite.median().clip(boundary)\n",
        "\n",
        "# Initialize our map.\n",
        "map1 = geemap.Map()\n",
        "map1.centerObject(boundary, 12)\n",
        "\n",
        "# Add the composite image to the map with specified display settings.\n",
        "map1.addLayer(S2_composite, {'bands': ['B11', 'B8', 'B3'], 'min': 0, 'max': 0.3}, 'Sentinel-2 Composite')\n",
        "\n",
        "# Display the map with layer control.\n",
        "map1.addLayerControl()\n",
        "map1"
      ]
    },
    {
      "cell_type": "markdown",
      "source": [
        "### Compute spectral indices\n",
        "Next, calculate NDVI, SAVI, and RESI from the Sentinel-2 composite. T"
      ],
      "metadata": {
        "id": "IwNqBjO-M1Qb"
      }
    },
    {
      "cell_type": "code",
      "source": [
        "# Calculate NDVI\n",
        "ndvi = S2_composite.normalizedDifference(['B8', 'B4']).rename('NDVI')\n",
        "\n",
        "# Calculate SAVI.\n",
        "L = 0.5  # Soil adjustment factor, typically between 0 and 1\n",
        "savi = S2_composite.expression(\n",
        "    '((NIR - Red) / (NIR + Red + L)) * (1 + L)', {\n",
        "        'NIR': S2_composite.select('B8'),\n",
        "        'Red': S2_composite.select('B4'),\n",
        "        'L': L\n",
        "    }).rename('SAVI')\n",
        "\n",
        "# Calculate RESI\n",
        "resi = S2_composite.expression(\n",
        "    '((RE3 + RE2 - RE1) / (RE3 + RE2 + RE1))', {\n",
        "        'RE1': S2_composite.select('B5'),\n",
        "        'RE2': S2_composite.select('B6'),\n",
        "        'RE3': S2_composite.select('B7')\n",
        "    }).rename('RESI')\n",
        "\n",
        "# Initialize our map.\n",
        "map2 = geemap.Map()\n",
        "map2.centerObject(boundary, 12)\n",
        "\n",
        "# Add the NDVI and RESI layers to the map.\n",
        "map2.addLayer(ndvi, {'min': -1, 'max': 1, 'palette': ['blue', 'white', 'green']}, 'NDVI')\n",
        "map2.addLayer(savi, {'min': -1, 'max': 1, 'palette': ['blue', 'white', 'green']}, 'SAVI')\n",
        "map2.addLayer(resi, {'min': -1, 'max': 1, 'palette': ['blue', 'white', 'green']}, 'RESI')\n",
        "\n",
        "# Display the map with layer control.\n",
        "map2.addLayerControl()\n",
        "map2"
      ],
      "metadata": {
        "id": "Ahku4pIlOMO4"
      },
      "execution_count": null,
      "outputs": []
    },
    {
      "cell_type": "markdown",
      "metadata": {
        "id": "DJgolGTMhGHs"
      },
      "source": [
        "### Merge all predictor variables\n"
      ]
    },
    {
      "cell_type": "code",
      "source": [
        "# Function to cast image bands to Float32\n",
        "def cast_to_float32(image):\n",
        "    return image.toFloat()\n",
        "\n",
        "# Cast all images to Float32\n",
        "S2_composite = cast_to_float32(S2_composite)\n",
        "ndvi = cast_to_float32(ndvi)\n",
        "savi = cast_to_float32(savi)\n",
        "resi = cast_to_float32(resi)\n",
        "\n",
        "# Define the merged collection\n",
        "mergedCollection = (\n",
        "    S2_composite\n",
        "    .addBands(ndvi)\n",
        "    .addBands(savi)\n",
        "    .addBands(resi)\n",
        ")\n",
        "\n",
        "# Clip the output image to the farm boundary\n",
        "clippedmergedCollection = mergedCollection.clipToCollection(boundary)"
      ],
      "metadata": {
        "colab": {
          "base_uri": "https://localhost:8080/",
          "height": 17
        },
        "id": "b9MaWIZ39ygW",
        "outputId": "862b01b1-9973-4dd1-a526-f5417cef1e6f"
      },
      "execution_count": null,
      "outputs": [
        {
          "output_type": "display_data",
          "data": {
            "text/plain": [
              "<IPython.core.display.HTML object>"
            ],
            "text/html": [
              "\n",
              "            <style>\n",
              "                .geemap-dark {\n",
              "                    --jp-widgets-color: white;\n",
              "                    --jp-widgets-label-color: white;\n",
              "                    --jp-ui-font-color1: white;\n",
              "                    --jp-layout-color2: #454545;\n",
              "                    background-color: #383838;\n",
              "                }\n",
              "\n",
              "                .geemap-dark .jupyter-button {\n",
              "                    --jp-layout-color3: #383838;\n",
              "                }\n",
              "\n",
              "                .geemap-colab {\n",
              "                    background-color: var(--colab-primary-surface-color, white);\n",
              "                }\n",
              "\n",
              "                .geemap-colab .jupyter-button {\n",
              "                    --jp-layout-color3: var(--colab-primary-surface-color, white);\n",
              "                }\n",
              "            </style>\n",
              "            "
            ]
          },
          "metadata": {}
        }
      ]
    },
    {
      "cell_type": "markdown",
      "metadata": {
        "id": "UeKeGTALh_yo"
      },
      "source": [
        "## Prepare the response variable\n",
        "### Filtering and preparing GEDI Level 4A data\n",
        "Derive aboveground biomass density (AGBD) from the GEDI Level 4A (L4A) dataset. This dataset contains AGBD predictions in Mg/ha. More information about this dataset is available at: https://developers.google.com/earth-engine/datasets/catalog/LARSE_GEDI_GEDI04_A_002.\n"
      ]
    },
    {
      "cell_type": "code",
      "execution_count": null,
      "metadata": {
        "id": "scPD4ZaSIHLD"
      },
      "outputs": [],
      "source": [
        "# Select a time-period\n",
        "start_date = ee.Date.fromYMD(2022, 1, 1)\n",
        "end_date = ee.Date.fromYMD(2022, 5, 30)\n",
        "\n",
        "# Load the GEDI Level 4A dataset\n",
        "gedi = ee.ImageCollection('LARSE/GEDI/GEDI04_A_002_MONTHLY')\n",
        "\n",
        "# Function to select highest quality GEDI data\n",
        "def quality_mask(image):\n",
        "    return image.updateMask(image.select('l4_quality_flag').eq(1)) \\\n",
        "                .updateMask(image.select('degrade_flag').eq(0))\n",
        "\n",
        "# Function to mask unreliable GEDI measurements with a relative standard error > 50%\n",
        "def error_mask(image):\n",
        "    relative_se = image.select('agbd_se').divide(image.select('agbd'))\n",
        "    return image.updateMask(relative_se.lte(0.5))\n",
        "\n",
        "# Function to mask GEDI measurements on slopes > 30%\n",
        "def slope_mask(image):\n",
        "    # Load the SRTM digital elevation model\n",
        "    srtm = ee.Image('USGS/SRTMGL1_003')\n",
        "\n",
        "    # Calculate slope\n",
        "    slope = ee.Terrain.slope(srtm)\n",
        "\n",
        "    return image.updateMask(slope.lt(30))\n",
        "\n",
        "# Apply the filters\n",
        "gedi_filtered = gedi.filter(ee.Filter.date(start_date, end_date)) \\\n",
        "                    .filter(ee.Filter.bounds(boundary))\n",
        "\n",
        "gedi_projection = ee.Image(gedi_filtered.first()).select('agbd').projection()\n",
        "\n",
        "gedi_processed = gedi_filtered.map(quality_mask).map(error_mask).map(slope_mask)\n",
        "\n",
        "# Create a mosaic of the filtered images\n",
        "gedi_mosaic = gedi_processed.mosaic().select('agbd').setDefaultProjection(gedi_projection).clip(boundary)\n",
        "\n",
        "# Create the display parameters\n",
        "gediVis = {\n",
        "    'min': 1,\n",
        "    'max': 300,\n",
        "    'palette': 'red, green, blue',\n",
        "}"
      ]
    },
    {
      "cell_type": "markdown",
      "source": [
        "### Sampling points and calculating key AGBD metrics"
      ],
      "metadata": {
        "id": "xmFnp2KnlwLE"
      }
    },
    {
      "cell_type": "code",
      "source": [
        "# Sample the training points (ta) from the dataset\n",
        "points = gedi_mosaic.sample(\n",
        "    region=boundary,\n",
        "    scale=10,\n",
        "    geometries=True\n",
        ")\n",
        "\n",
        "# Get the AGDB values from the 'agbd' property of the filtered points\n",
        "agbd_values = points.aggregate_array('agbd').getInfo()\n",
        "\n",
        "# Calculate summary statistics\n",
        "mean_agbd = np.mean(agbd_values)\n",
        "median_agbd = np.median(agbd_values)\n",
        "std_agbd = np.std(agbd_values)\n",
        "min_agbd = np.min(agbd_values)\n",
        "max_agbd = np.max(agbd_values)\n",
        "\n",
        "# Print the summary statistics\n",
        "print(\"Mean AGBD:\", mean_agbd)\n",
        "print(\"Median AGBD:\", median_agbd)\n",
        "print(\"Standard Deviation AGBD:\", std_agbd)\n",
        "print(\"Minimum AGBD:\", min_agbd)\n",
        "print(\"Maximum AGBD:\", max_agbd)\n",
        "\n",
        "# Print and display the training (ta) points derived from the GEDI L4B dataset\n",
        "print(points.size().getInfo())\n",
        "print(points.first().getInfo())"
      ],
      "metadata": {
        "id": "dH6iOdzClxHA"
      },
      "execution_count": null,
      "outputs": []
    },
    {
      "cell_type": "markdown",
      "metadata": {
        "id": "OHZjNbB6ypyA"
      },
      "source": [
        "### Display GEDI Level 4A AGBD\n",
        "Next, display GEDI AGBD sample points."
      ]
    },
    {
      "cell_type": "code",
      "execution_count": null,
      "metadata": {
        "id": "b7rNq5cWynlr"
      },
      "outputs": [],
      "source": [
        "# Display the GEDI L4A mean above-ground biomass (AGB) points and the derived training points\n",
        "# Initialize the map\n",
        "map4 = geemap.Map()\n",
        "map4.centerObject(boundary, 12)\n",
        "map4.addLayer(gedi_mosaic, gediVis, 'GEDI L4A Mean AGBD points')\n",
        "map4.addLayer(points, {'color': '808080'}, 'Mean AGBD training points')\n",
        "\n",
        "# Display the map\n",
        "display(map4)"
      ]
    },
    {
      "cell_type": "markdown",
      "source": [
        "Next, create density and box plots for the GEDI L4A datasets using the seaborn library for density plots and matplotlib for box plots."
      ],
      "metadata": {
        "id": "Nw6oVSKvcOrn"
      }
    },
    {
      "cell_type": "code",
      "source": [
        "# Create a figure with 1 row and 2 columns\n",
        "plt.figure(figsize=(14, 6))\n",
        "\n",
        "# Histogram\n",
        "plt.subplot(1, 2, 1)\n",
        "plt.hist(agbd_values, bins=20, range=[20, 500], color='blue', edgecolor='black')\n",
        "plt.xlabel('AGBD (Mg/ha)')\n",
        "plt.ylabel('Frequency')\n",
        "plt.title('Histogram of AGBD Values')\n",
        "\n",
        "# Boxplot\n",
        "plt.subplot(1, 2, 2)\n",
        "sns.boxplot(x=agbd_values, color='blue')\n",
        "plt.xlabel('AGBD (Mg/ha)')\n",
        "plt.title('Boxplot of AGBD Values')\n",
        "\n",
        "# Display both plots\n",
        "plt.tight_layout()\n",
        "plt.show()"
      ],
      "metadata": {
        "id": "rjgzZhf7S4be"
      },
      "execution_count": null,
      "outputs": []
    },
    {
      "cell_type": "markdown",
      "source": [
        "### Data cleaning\n",
        "\n",
        "Next, we will filter the data points to retain aboveground biomass density (AGBD) values within 0 to 90 megagrams per hectare (Mg/ha)."
      ],
      "metadata": {
        "id": "zpdIA6fbclQs"
      }
    },
    {
      "cell_type": "code",
      "source": [
        "# Filter the training points by range (0 Mg/ha to 100 Mg/ha)\n",
        "filteredPoints = points.filter(\n",
        "    ee.Filter.And(\n",
        "        ee.Filter.gte('agbd', 0),\n",
        "        ee.Filter.lte('agbd', 90)\n",
        "    )\n",
        ")\n",
        "\n",
        "# Print and display the training (ta) points derived from the GEDI L4B dataset\n",
        "print(filteredPoints.size().getInfo())\n",
        "print(filteredPoints.first().getInfo())\n",
        "\n",
        "# Display the GEDI L4A mean above-ground biomass (AGB) points and the derived training points\n",
        "# Initialize the map\n",
        "map5 = geemap.Map()\n",
        "map5.centerObject(boundary, 12)\n",
        "map5.addLayer(filteredPoints, {'color': '808080'}, 'Mean fitered AGBD training points')\n",
        "# Display the map\n",
        "display(map5)"
      ],
      "metadata": {
        "id": "bR41nNrBcdxZ"
      },
      "execution_count": null,
      "outputs": []
    },
    {
      "cell_type": "code",
      "source": [
        "# Get the AGDB values from the 'agbd' property of the filtered points\n",
        "agbd_values = filteredPoints.aggregate_array('agbd').getInfo()\n",
        "\n",
        "# Calculate summary statistics\n",
        "mean_agbd = np.mean(agbd_values)\n",
        "median_agbd = np.median(agbd_values)\n",
        "std_agbd = np.std(agbd_values)\n",
        "min_agbd = np.min(agbd_values)\n",
        "max_agbd = np.max(agbd_values)\n",
        "\n",
        "# Print the summary statistics\n",
        "print(\"Mean AGBD:\", mean_agbd)\n",
        "print(\"Median AGBD:\", median_agbd)\n",
        "print(\"Standard Deviation AGBD:\", std_agbd)\n",
        "print(\"Minimum AGBD:\", min_agbd)\n",
        "print(\"Maximum AGBD:\", max_agbd)\n",
        "\n",
        "# Print and display the training (ta) points derived from the GEDI L4B dataset\n",
        "print(points.size().getInfo())\n",
        "print(points.first().getInfo())\n",
        "\n",
        "# Create a figure with 1 row and 2 columns\n",
        "plt.figure(figsize=(14, 6))\n",
        "\n",
        "# Create a figure with 1 row and 2 columns\n",
        "plt.figure(figsize=(14, 6))\n",
        "\n",
        "# Histogram\n",
        "plt.subplot(1, 2, 1)\n",
        "plt.hist(agbd_values, bins=20, range=[20, 500], color='blue', edgecolor='black')\n",
        "plt.xlabel('AGBD (Mg/ha)')\n",
        "plt.ylabel('Frequency')\n",
        "plt.title('Histogram of AGBD Values')\n",
        "\n",
        "# Boxplot\n",
        "plt.subplot(1, 2, 2)\n",
        "sns.boxplot(x=agbd_values, color='blue')\n",
        "plt.xlabel('AGBD (Mg/ha)')\n",
        "plt.title('Boxplot of AGBD Values')\n",
        "\n",
        "# Display both plots\n",
        "plt.tight_layout()\n",
        "plt.show()"
      ],
      "metadata": {
        "id": "TZgXGHMQTHwE"
      },
      "execution_count": null,
      "outputs": []
    },
    {
      "cell_type": "markdown",
      "source": [
        "## Sampling training data in Google Earth Engine\n",
        "We will select specific bands from the 'clippedmergedCollection' and then sample the values (spectral reflectance values) at the locations of the 'trainingData' points.\n"
      ],
      "metadata": {
        "id": "nfk5vqJuc7v3"
      }
    },
    {
      "cell_type": "code",
      "source": [
        "# Select specific bands or variables from the 'clippedmergedCollection'\n",
        "predictor_vars = ['B2', 'B3', 'B4', 'B5', 'B6', 'B7', 'B8', 'B11', 'B12', 'NDVI', 'SAVI', 'RESI']\n",
        "# Sample the values at the locations of the 'trainingData' points.\n",
        "trainingData = clippedmergedCollection.select(predictor_vars).sampleRegions(**{\n",
        "    'collection': filteredPoints,  # The 'trainingData' is the FeatureCollection containing training points.\n",
        "    'properties': ['agbd'],  # The property 'agbd' is used as the label for the training points.\n",
        "    'scale': 50  # The scale (resolution) at which the sampling is performed (in meters).\n",
        "})"
      ],
      "metadata": {
        "colab": {
          "base_uri": "https://localhost:8080/",
          "height": 17
        },
        "id": "LL6DBwPz4Ygk",
        "outputId": "3a29b4dd-512e-46b0-d4fb-eeb7e836174f"
      },
      "execution_count": null,
      "outputs": [
        {
          "output_type": "display_data",
          "data": {
            "text/plain": [
              "<IPython.core.display.HTML object>"
            ],
            "text/html": [
              "\n",
              "            <style>\n",
              "                .geemap-dark {\n",
              "                    --jp-widgets-color: white;\n",
              "                    --jp-widgets-label-color: white;\n",
              "                    --jp-ui-font-color1: white;\n",
              "                    --jp-layout-color2: #454545;\n",
              "                    background-color: #383838;\n",
              "                }\n",
              "\n",
              "                .geemap-dark .jupyter-button {\n",
              "                    --jp-layout-color3: #383838;\n",
              "                }\n",
              "\n",
              "                .geemap-colab {\n",
              "                    background-color: var(--colab-primary-surface-color, white);\n",
              "                }\n",
              "\n",
              "                .geemap-colab .jupyter-button {\n",
              "                    --jp-layout-color3: var(--colab-primary-surface-color, white);\n",
              "                }\n",
              "            </style>\n",
              "            "
            ]
          },
          "metadata": {}
        }
      ]
    },
    {
      "cell_type": "markdown",
      "source": [
        "## Export imagery and training data to Google Drive\n",
        "Next, we will export the imagery and training data to your Google Drive since we want to use machine learning algorithms available in Scikit Learn."
      ],
      "metadata": {
        "id": "pUPCbHJR4Y-v"
      }
    },
    {
      "cell_type": "code",
      "source": [
        "# Export the training data to Google Drive\n",
        "task = ee.batch.Export.image.toDrive(**{\n",
        "    'image': clippedmergedCollection,\n",
        "    'description': 'S2_predictors_2022',\n",
        "    'folder': 'Maf_datasets',\n",
        "    'fileNamePrefix': 'S2_predictors_2022',\n",
        "    'region': boundary.geometry().bounds().getInfo()['coordinates'],\n",
        "    'scale': 20,\n",
        "    'fileFormat': 'GeoTIFF'\n",
        "})\n",
        "\n",
        "task.start()\n",
        "\n",
        "# Export the training data to Google Drive\n",
        "task = ee.batch.Export.table.toDrive(**{\n",
        "    'collection': trainingData,\n",
        "    'description': 'TA_AGDD_GEDI_L4A_2022',\n",
        "    'folder': 'Maf_datasets',\n",
        "    'fileFormat': 'CSV'\n",
        "})\n",
        "\n",
        "task.start()\n",
        "\n",
        "print(\"Exporting the training data to Google Drive. This may take a while...\")"
      ],
      "metadata": {
        "id": "-LDechJGQUiX"
      },
      "execution_count": null,
      "outputs": []
    }
  ],
  "metadata": {
    "colab": {
      "provenance": [],
      "include_colab_link": true
    },
    "kernelspec": {
      "display_name": "Python 3",
      "name": "python3"
    },
    "language_info": {
      "name": "python"
    }
  },
  "nbformat": 4,
  "nbformat_minor": 0
}