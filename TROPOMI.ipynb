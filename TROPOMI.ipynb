{
    "cells": [
        {
            "cell_type": "code",
            "execution_count": 1,
            "source": [
                "flex_title = \"Indonesian Atmosphere\"\r\n",
                "flex_subtitle = \"Nusantara Earth Observation Network - BPPT\""
            ],
            "outputs": [],
            "metadata": {
                "tags": [
                    "parameters"
                ]
            }
        },
        {
            "cell_type": "code",
            "execution_count": 2,
            "source": [
                "import ee\r\n",
                "import os\r\n",
                "\r\n",
                "# Interactive Python\r\n",
                "import ipyleaflet\r\n",
                "import ipywidgets as widgets\r\n",
                "from IPython.display import display, clear_output\r\n",
                "from datetime import date, timedelta, datetime\r\n",
                "\r\n",
                "# Initialize Earth Engine token\r\n",
                "ee_token = os.environ.get(\"EARTHENGINE_TOKEN\")\r\n",
                "if ee_token is not None:\r\n",
                "    credential_file_path = os.path.expanduser(\"~/.config/earthengine/\")\r\n",
                "    if not os.path.exists(credential_file_path):\r\n",
                "        credential = '{\"refresh_token\":\"%s\"}' % ee_token\r\n",
                "        os.makedirs(credential_file_path, exist_ok=True)\r\n",
                "        with open(credential_file_path + \"credentials\", \"w\") as file:\r\n",
                "            file.write(credential)\r\n",
                "\r\n",
                "ee.Initialize()"
            ],
            "outputs": [],
            "metadata": {}
        },
        {
            "cell_type": "markdown",
            "source": [
                "## Section"
            ],
            "metadata": {
                "tags": [
                    "size=200"
                ]
            }
        },
        {
            "cell_type": "markdown",
            "source": [
                "### Trace Gas"
            ],
            "metadata": {
                "tags": [
                    "size=150"
                ]
            }
        },
        {
            "cell_type": "code",
            "execution_count": 3,
            "source": [
                "param_var = widgets.Dropdown(\r\n",
                "    options=[\r\n",
                "        'Nitrogen Dioxide', 'Carbon Monoxide', 'Sulphur Dioxide', 'Ozone'\r\n",
                "    ],\r\n",
                "    value='Nitrogen Dioxide'\r\n",
                ")\r\n",
                "display(param_var)"
            ],
            "outputs": [
                {
                    "output_type": "display_data",
                    "data": {
                        "text/plain": [
                            "Dropdown(options=('Nitrogen Dioxide', 'Carbon Monoxide', 'Sulphur Dioxide', 'Ozone'), value='Nitrogen Dioxide'…"
                        ],
                        "application/vnd.jupyter.widget-view+json": {
                            "version_major": 2,
                            "version_minor": 0,
                            "model_id": "1281a0c61f924e3395d262eceea9610c"
                        }
                    },
                    "metadata": {}
                }
            ],
            "metadata": {
                "tags": [
                    "body"
                ]
            }
        },
        {
            "cell_type": "markdown",
            "source": [
                "### Near Real Time Data"
            ],
            "metadata": {
                "tags": [
                    "size=300"
                ]
            }
        },
        {
            "cell_type": "code",
            "execution_count": 6,
            "source": [
                "obs_label = widgets.Label('Date:')\r\n",
                "obs_var = widgets.DatePicker(\r\n",
                "    value=date.today() - timedelta(days=2),\r\n",
                ")\r\n",
                "\r\n",
                "latest_label = widgets.Label('Averaged Days:')\r\n",
                "latest_var = widgets.IntSlider(\r\n",
                "    value=3, min=1, max=7, step=1,\r\n",
                ")\r\n",
                "\r\n",
                "observed = widgets.VBox([\r\n",
                "    obs_label, obs_var, latest_label, latest_var\r\n",
                "])\r\n",
                "display(observed)"
            ],
            "outputs": [
                {
                    "output_type": "display_data",
                    "data": {
                        "text/plain": [
                            "VBox(children=(Label(value='Date:'), DatePicker(value=datetime.date(2021, 8, 8)), Label(value='Averaged Days:'…"
                        ],
                        "application/vnd.jupyter.widget-view+json": {
                            "version_major": 2,
                            "version_minor": 0,
                            "model_id": "4c3e8e7065694f4986b2f51f26c0366e"
                        }
                    },
                    "metadata": {}
                }
            ],
            "metadata": {
                "tags": [
                    "body"
                ]
            }
        },
        {
            "cell_type": "markdown",
            "source": [
                "### Baseline Data"
            ],
            "metadata": {
                "tags": [
                    "size=300"
                ]
            }
        },
        {
            "cell_type": "code",
            "execution_count": 5,
            "source": [
                "start_label = widgets.Label('Start:')\r\n",
                "start_var = widgets.DatePicker(\r\n",
                "    value=date(2021, 5, 24),\r\n",
                ")\r\n",
                "\r\n",
                "end_label = widgets.Label('End:')\r\n",
                "end_var = widgets.DatePicker(\r\n",
                "    value=date(2021, 6, 6),\r\n",
                ")\r\n",
                "\r\n",
                "base = widgets.VBox([\r\n",
                "    start_label, start_var, end_label, end_var\r\n",
                "])\r\n",
                "display(base)"
            ],
            "outputs": [
                {
                    "output_type": "display_data",
                    "data": {
                        "text/plain": [
                            "VBox(children=(Label(value='Baseline Start Date:'), DatePicker(value=datetime.date(2021, 5, 24)), Label(value=…"
                        ],
                        "application/vnd.jupyter.widget-view+json": {
                            "version_major": 2,
                            "version_minor": 0,
                            "model_id": "6718c37614c14a60a9a2f2b0a84e7696"
                        }
                    },
                    "metadata": {}
                }
            ],
            "metadata": {
                "tags": [
                    "body"
                ]
            }
        },
        {
            "cell_type": "markdown",
            "source": [
                "### Contact"
            ],
            "metadata": {
                "tags": [
                    "size=250"
                ]
            }
        },
        {
            "cell_type": "markdown",
            "source": [
                "For more information, contact:\r\n",
                "[Josef Matondang](mailto:admin@josefmtd.com)"
            ],
            "metadata": {
                "tags": [
                    "body"
                ]
            }
        },
        {
            "cell_type": "markdown",
            "source": [
                "## Column"
            ],
            "metadata": {
                "tags": [
                    "size=800"
                ]
            }
        },
        {
            "cell_type": "markdown",
            "source": [
                "### Sentinel-5P TROPOMI Measurements Pre-PPKM (Left) and During PPKM (Right)"
            ],
            "metadata": {}
        },
        {
            "cell_type": "code",
            "execution_count": 6,
            "source": [
                "trace_gases = {\r\n",
                "    'Nitrogen Dioxide' : {\r\n",
                "        'short' : 'NO2',\r\n",
                "        'band' : 'tropospheric_NO2_column_number_density',\r\n",
                "        'min' : 0.0,\r\n",
                "        'max' : 200.0,\r\n",
                "        'multiplier' : 1e6\r\n",
                "    },\r\n",
                "    'Carbon Monoxide' : {\r\n",
                "        'short' : 'CO',\r\n",
                "        'band' : 'CO_column_number_density',\r\n",
                "        'min' : 0.0,\r\n",
                "        'max' : 0.05,\r\n",
                "        'multiplier' : 1e0\r\n",
                "    },\r\n",
                "    'Sulphur Dioxide' : {\r\n",
                "        'short' : 'SO2',\r\n",
                "        'band' : 'SO2_column_number_density',\r\n",
                "        'min' : 0.0,\r\n",
                "        'max' : 500.0,\r\n",
                "        'multiplier' : 1e6\r\n",
                "    },\r\n",
                "    'Ozone' : {\r\n",
                "        'short' : 'O3',\r\n",
                "        'band' : 'O3_column_number_density',\r\n",
                "        'min' : 0.12,\r\n",
                "        'max' : 0.15,\r\n",
                "        'multiplier' : 1e0\r\n",
                "    }\r\n",
                "}\r\n",
                "\r\n",
                "def create_ee_tile_layer(image, vis_params, name):\r\n",
                "    map_id_dict = image.getMapId(vis_params)\r\n",
                "    tile_layer = ipyleaflet.TileLayer(\r\n",
                "        url=map_id_dict[\"tile_fetcher\"].url_format,\r\n",
                "        attribution=\"European Space Agency, Google Earth Engine\",\r\n",
                "        name=name, opacity=1.0, shown=True\r\n",
                "    )\r\n",
                "    return tile_layer\r\n",
                "\r\n",
                "def on_value_change(change):\r\n",
                "    obs = obs_var.value\r\n",
                "    latest = latest_var.value\r\n",
                "    param = param_var.value\r\n",
                "    start = start_var.value\r\n",
                "    end = end_var.value\r\n",
                "    \r\n",
                "    with out:\r\n",
                "        # Choose trace gas and band\r\n",
                "        gas_name = trace_gases[param]['short']\r\n",
                "        band_name = trace_gases[param]['band']\r\n",
                "\r\n",
                "        # Select observation date (last 3 days)\r\n",
                "        obs_end = obs + timedelta(days=1)\r\n",
                "        obs_start = obs - timedelta(days=(latest - 1))        \r\n",
                "\r\n",
                "        # Select baseline and observation data\r\n",
                "        baseline = ee.ImageCollection('COPERNICUS/S5P/OFFL/L3_{}'.format(gas_name)) \\\r\n",
                "            .filterDate(start.isoformat(), end.isoformat()) \\\r\n",
                "            .select(band_name)\r\n",
                "\r\n",
                "        nrti = ee.ImageCollection('COPERNICUS/S5P/NRTI/L3_{}'.format(gas_name)) \\\r\n",
                "            .filterDate(obs_start.isoformat(), obs_end.isoformat()) \\\r\n",
                "            .select(band_name)\r\n",
                "\r\n",
                "        # Create map\r\n",
                "        Map = ipyleaflet.Map(center=(0,120), zoom=5,\r\n",
                "            min_zoom=5, max_zoom=12, \r\n",
                "            scroll_wheel_zoom=True,\r\n",
                "            basemap=ipyleaflet.basemaps.CartoDB.Positron\r\n",
                "        )\r\n",
                "\r\n",
                "        # Add visualization parameters\r\n",
                "        vmin = trace_gases[param][\"min\"]\r\n",
                "        vmax = trace_gases[param][\"max\"]\r\n",
                "        multiplier = trace_gases[param][\"multiplier\"]\r\n",
                "        palette = ['black', 'blue', 'purple', 'cyan', 'green', 'yellow', 'red']\r\n",
                "\r\n",
                "        baseline_vis = baseline.mean().multiply(multiplier) \r\n",
                "        nrti_vis = nrti.mean().multiply(multiplier)\r\n",
                "\r\n",
                "        vis_params = {\r\n",
                "            'min': vmin,\r\n",
                "            'max': vmax,\r\n",
                "            'palette': palette\r\n",
                "        }\r\n",
                "\r\n",
                "        # Add split map\r\n",
                "        left = create_ee_tile_layer(baseline_vis, vis_params, 'Pre-PPKM')\r\n",
                "        right = create_ee_tile_layer(nrti_vis, vis_params, 'Observed')\r\n",
                "\r\n",
                "        control = ipyleaflet.SplitMapControl(left_layer=left, right_layer=right)\r\n",
                "        Map.add_control(control)\r\n",
                "\r\n",
                "        if change is not None:\r\n",
                "            clear_output(wait=True)\r\n",
                "\r\n",
                "        display(Map)"
            ],
            "outputs": [],
            "metadata": {}
        },
        {
            "cell_type": "code",
            "execution_count": 7,
            "source": [
                "out = widgets.Output()\r\n",
                "obs_var.observe(on_value_change, names=\"value\")\r\n",
                "latest_var.observe(on_value_change, names=\"value\")\r\n",
                "param_var.observe(on_value_change, names=\"value\")\r\n",
                "start_var.observe(on_value_change, names=\"value\")\r\n",
                "end_var.observe(on_value_change, names=\"value\")\r\n",
                "\r\n",
                "on_value_change(None)\r\n",
                "display(out)"
            ],
            "outputs": [
                {
                    "output_type": "display_data",
                    "data": {
                        "text/plain": [
                            "Output()"
                        ],
                        "application/vnd.jupyter.widget-view+json": {
                            "version_major": 2,
                            "version_minor": 0,
                            "model_id": "e1f28a823fec453ab8466c5ec574ac11"
                        }
                    },
                    "metadata": {}
                }
            ],
            "metadata": {
                "tags": [
                    "body"
                ]
            }
        }
    ],
    "metadata": {
        "orig_nbformat": 4,
        "language_info": {
            "name": "python",
            "version": "3.9.6",
            "mimetype": "text/x-python",
            "codemirror_mode": {
                "name": "ipython",
                "version": 3
            },
            "pygments_lexer": "ipython3",
            "nbconvert_exporter": "python",
            "file_extension": ".py"
        },
        "kernelspec": {
            "name": "python3",
            "display_name": "Python 3.9.6 64-bit ('notebook': conda)"
        },
        "interpreter": {
            "hash": "456e0795d6f3aab2473551b267d04c9b6c216f0918c2556a05f5f3b39cb316d5"
        }
    },
    "nbformat": 4,
    "nbformat_minor": 2
}